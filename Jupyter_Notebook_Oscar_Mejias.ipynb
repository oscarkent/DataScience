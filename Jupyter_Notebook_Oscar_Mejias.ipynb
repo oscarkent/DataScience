{
  "metadata": {
    "kernelspec": {
      "name": "python",
      "display_name": "Python (Pyodide)",
      "language": "python"
    },
    "language_info": {
      "codemirror_mode": {
        "name": "python",
        "version": 3
      },
      "file_extension": ".py",
      "mimetype": "text/x-python",
      "name": "python",
      "nbconvert_exporter": "python",
      "pygments_lexer": "ipython3",
      "version": "3.8"
    }
  },
  "nbformat_minor": 4,
  "nbformat": 4,
  "cells": [
    {
      "cell_type": "markdown",
      "source": "# Jupyter Notebook Oscarkent",
      "metadata": {}
    },
    {
      "cell_type": "markdown",
      "source": "### Este cuaderno contiene los ejercicios del curso de Data Science de oscarkent",
      "metadata": {}
    },
    {
      "cell_type": "markdown",
      "source": "## 1. Lenguajes de la Ciencia de Datos\n* Python\n* R\n* SQL\n* Scala\n* Java\n* C++\n\n",
      "metadata": {}
    },
    {
      "cell_type": "markdown",
      "source": "## 2. Bibliotecas de la Ciencia de Datos\n### Scientific Computing Libraries\n- Pandas\n- NumPy\n### Visualization Libraries \n- Matplotlib\n- Seaborn \n### High-Level- Machine Learning and Deep Learning Libraries\n- Scikitlearn\n- Keras\n### Deep Learning Libraries\n- TensorFlow\n- PyTorch\n",
      "metadata": {}
    },
    {
      "cell_type": "markdown",
      "source": "## 3. Herramientas de la Ciencia de Datos\n- Jupyter Notebooks\n- RStudio\n- Anaconda",
      "metadata": {}
    },
    {
      "cell_type": "markdown",
      "source": "## 4. Ejemplos de expresiones aritméticas\n- Sumas: 4+5\n- Restas: 5-4\n- Multiplicaciones: 5*4\n- Combinaciones: (4+5)*5\n",
      "metadata": {}
    },
    {
      "cell_type": "code",
      "source": "# 5. Celdas de Multiplicacion y suma\n(6+6)*12",
      "metadata": {
        "trusted": true
      },
      "outputs": [
        {
          "execution_count": 1,
          "output_type": "execute_result",
          "data": {
            "text/plain": "144"
          },
          "metadata": {}
        }
      ],
      "execution_count": 1
    },
    {
      "cell_type": "code",
      "source": "# Celda para convertir minutos a horas\n# Numero de Minutos: 4563\n4563/60",
      "metadata": {
        "trusted": true
      },
      "outputs": [
        {
          "execution_count": 2,
          "output_type": "execute_result",
          "data": {
            "text/plain": "76.05"
          },
          "metadata": {}
        }
      ],
      "execution_count": 2
    },
    {
      "cell_type": "code",
      "source": "# Listado Objetivos \n#* Aprender a usar Jupyter Notebook\n#* Realizar tareas propuestas\n#* Evaluar tareas",
      "metadata": {
        "trusted": true
      },
      "outputs": [],
      "execution_count": 6
    },
    {
      "cell_type": "markdown",
      "source": "Autor: Oscar R. Mejías",
      "metadata": {}
    }
  ]
}